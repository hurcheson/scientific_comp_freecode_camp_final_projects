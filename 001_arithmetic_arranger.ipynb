{
 "cells": [
  {
   "cell_type": "markdown",
   "id": "9fd28178-b30c-42a1-8f3c-2d67f5682b44",
   "metadata": {},
   "source": [
    "# A program written to show kids how to add and substract numbers"
   ]
  },
  {
   "cell_type": "markdown",
   "id": "90077dfa-b7b8-4f7c-a8f1-fefc53690a44",
   "metadata": {},
   "source": [
    "## This notebook is to help me build it step by step.\n",
    "### Final product would be available in .py file"
   ]
  },
  {
   "cell_type": "code",
   "execution_count": null,
   "id": "4e3610a2-1870-4204-8c76-9dfd16688ed8",
   "metadata": {},
   "outputs": [],
   "source": [
    "def arithmetic_arranger(problems, show_answers=False):\n",
    "    \"\"\"\n",
    "    Program to show to add and substract numbers\n",
    "    \n",
    "    parameters:\n",
    "        problems: list,\n",
    "        show_answers: False - default\n",
    "    \"\"\"\n",
    "    if len(problems) > 5:\n",
    "        print('Error: Too many problems.')\n",
    "    else:\n",
    "        for item in problems:\n",
    "            if not any('+' in s or '-' in s for s in item):\n",
    "                print(\"Error: Operator must be '+' or '-'.\")\n",
    "            if not ((item.split(' '))[0].isdigit() and (item.split(' '))[-1].isdigit()):\n",
    "                print('Error: Numbers must only contain digits.')\n",
    "            if not (len(item.split(' ')[0]) < 5 and len(item.split(' ')[-1]) < 5):\n",
    "                print('Error: Numbers cannot be more than four digits.')\n",
    "            if int(a.split(' ')[0]) > int(a.split(' ')[-1]):\n",
    "                print(f' {(item.split(' ')[0]): >4}\\n{(item.split(' ')[1])}{(item.split(' ')[-1]): >4}')\n",
    "            else:\n",
    "                print(f' {(item.split(' ')[-1]): >4}\\n{(item.split(' ')[1])}{(item.split(' ')[0]): >4}')\n",
    "                    \n",
    "\n",
    "\n",
    "    return problems\n",
    "\n",
    "print(f'\\n{arithmetic_arranger([\"32 + 698\", \"3801 - 2\", \"45 + 43\", \"123 + 49\"])}')"
   ]
  }
 ],
 "metadata": {
  "kernelspec": {
   "display_name": "Python [conda env:base] *",
   "language": "python",
   "name": "conda-base-py"
  },
  "language_info": {
   "codemirror_mode": {
    "name": "ipython",
    "version": 3
   },
   "file_extension": ".py",
   "mimetype": "text/x-python",
   "name": "python",
   "nbconvert_exporter": "python",
   "pygments_lexer": "ipython3",
   "version": "3.12.7"
  }
 },
 "nbformat": 4,
 "nbformat_minor": 5
}
