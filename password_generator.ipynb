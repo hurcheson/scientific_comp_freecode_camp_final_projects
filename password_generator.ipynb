{
 "cells": [
  {
   "cell_type": "markdown",
   "id": "d435285d-93a6-4b4b-8850-9c44fc78dd2f",
   "metadata": {},
   "source": [
    "# Password Generated built using regex"
   ]
  },
  {
   "cell_type": "code",
   "execution_count": 2,
   "id": "976d3bb7-404b-46c4-bc47-fc8320643616",
   "metadata": {},
   "outputs": [
    {
     "ename": "SyntaxError",
     "evalue": "incomplete input (3998422635.py, line 5)",
     "output_type": "error",
     "traceback": [
      "\u001b[1;36m  Cell \u001b[1;32mIn[2], line 5\u001b[1;36m\u001b[0m\n\u001b[1;33m    def generate_password():\u001b[0m\n\u001b[1;37m                            ^\u001b[0m\n\u001b[1;31mSyntaxError\u001b[0m\u001b[1;31m:\u001b[0m incomplete input\n"
     ]
    }
   ],
   "source": [
    "# import libraries\n",
    "\n",
    "# Define a Function, generate_password\n",
    "\n",
    "def generate_password():\n",
    "    \"\"\"\n",
    "    parameters: length [length of the password to be generated]\n",
    "                nums: default=1\n",
    "                special_chars: default = 1\n",
    "                uppercase: default = 1\n",
    "                lowercase: default = 1\n",
    "    Instructions:\n",
    "        obtain all_characters variable\n",
    "        Implement a for loop inside while to generate the password\n",
    "\n",
    "    Constraints:\n",
    "        The elements in the constraints list should be tuples\n",
    "\n",
    "    Check constraints:\n",
    "        The password should at least contain each of the different chars\n",
    "    \"\"\"\n",
    "    return password"
   ]
  },
  {
   "cell_type": "code",
   "execution_count": null,
   "id": "5ecd9af0-74f7-4b86-8ce0-f093ef92f20e",
   "metadata": {},
   "outputs": [],
   "source": []
  }
 ],
 "metadata": {
  "kernelspec": {
   "display_name": "Python [conda env:base] *",
   "language": "python",
   "name": "conda-base-py"
  },
  "language_info": {
   "codemirror_mode": {
    "name": "ipython",
    "version": 3
   },
   "file_extension": ".py",
   "mimetype": "text/x-python",
   "name": "python",
   "nbconvert_exporter": "python",
   "pygments_lexer": "ipython3",
   "version": "3.12.7"
  }
 },
 "nbformat": 4,
 "nbformat_minor": 5
}
