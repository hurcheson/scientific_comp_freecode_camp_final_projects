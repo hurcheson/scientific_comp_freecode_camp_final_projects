{
 "cells": [
  {
   "cell_type": "markdown",
   "id": "d435285d-93a6-4b4b-8850-9c44fc78dd2f",
   "metadata": {},
   "source": [
    "# Password Generated built using regex"
   ]
  },
  {
   "cell_type": "markdown",
   "id": "7d1a4582-5641-4376-8983-33baeae0d4a5",
   "metadata": {},
   "source": [
    "### Re - written by Hurcheson\n",
    "### Credit to FreeCodeCamp\n",
    "### Date: January 1, 2025"
   ]
  },
  {
   "cell_type": "code",
   "execution_count": 21,
   "id": "976d3bb7-404b-46c4-bc47-fc8320643616",
   "metadata": {},
   "outputs": [],
   "source": [
    "# import libraries\n",
    "import re\n",
    "import string\n",
    "import secrets\n",
    "\n",
    "# Define a Function, generate_password\n",
    "def generate_password(length=16, nums=1, special_chars=1, uppercase=1, lowercase=1):\n",
    "    \"\"\"\n",
    "    parameters: length [length of the password to be generated]\n",
    "                nums: default=1\n",
    "                special_chars: default = 1\n",
    "                uppercase: default = 1\n",
    "                lowercase: default = 1\n",
    "    Instructions:\n",
    "        obtain all_characters variable\n",
    "        Implement a for loop inside while to generate the password\n",
    "\n",
    "    Constraints:\n",
    "        The elements in the constraints list should be tuples\n",
    "\n",
    "    Check constraints:\n",
    "        The password should at least contain each of the different chars\n",
    "\n",
    "    Others:\n",
    "        raw string (r) was used to ensure all characters are treated literally\n",
    "    \"\"\"\n",
    "\n",
    "    # Obtain characters required to generate the password\n",
    "    digits = string.digits\n",
    "    letters = string.ascii_letters\n",
    "    symbols = string.punctuation\n",
    "\n",
    "    # Combine all characters\n",
    "    all_characters = digits + letters + symbols\n",
    "\n",
    "    # loop to create password and check against constraints\n",
    "    while True:\n",
    "        # Generate the password\n",
    "        password = ''\n",
    "        for _ in range(length):\n",
    "            password += secrets.choice(all_characters)\n",
    "    \n",
    "        # Define constraints\n",
    "        constraints = [\n",
    "            (nums, r'\\d'),\n",
    "            (special_chars, fr'[{symbols}]'),\n",
    "            (uppercase, r'[A-Z]'),\n",
    "            (lowercase, r'a-z')\n",
    "            ]\n",
    "    \n",
    "        # Checking constraints\n",
    "        if all(\n",
    "            constraint <= len(re.findall(pattern, password)) \n",
    "            for constraint, pattern in constraints\n",
    "        ):\n",
    "            break\n",
    "\n",
    "    \n",
    "    return password"
   ]
  },
  {
   "cell_type": "code",
   "execution_count": 31,
   "id": "5ecd9af0-74f7-4b86-8ce0-f093ef92f20e",
   "metadata": {},
   "outputs": [
    {
     "data": {
      "text/plain": [
       "\"pjma-zLWv'HomE1r\""
      ]
     },
     "execution_count": 31,
     "metadata": {},
     "output_type": "execute_result"
    }
   ],
   "source": [
    "# Testing code\n",
    "generate_password(length=16)"
   ]
  },
  {
   "cell_type": "code",
   "execution_count": null,
   "id": "cc852f60-2cc6-4262-b39f-44a2ccf93c07",
   "metadata": {},
   "outputs": [],
   "source": []
  }
 ],
 "metadata": {
  "kernelspec": {
   "display_name": "Python [conda env:base] *",
   "language": "python",
   "name": "conda-base-py"
  },
  "language_info": {
   "codemirror_mode": {
    "name": "ipython",
    "version": 3
   },
   "file_extension": ".py",
   "mimetype": "text/x-python",
   "name": "python",
   "nbconvert_exporter": "python",
   "pygments_lexer": "ipython3",
   "version": "3.12.7"
  }
 },
 "nbformat": 4,
 "nbformat_minor": 5
}
