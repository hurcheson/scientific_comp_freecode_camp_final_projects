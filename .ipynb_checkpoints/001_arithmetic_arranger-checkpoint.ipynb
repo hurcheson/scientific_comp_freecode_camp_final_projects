{
 "cells": [
  {
   "cell_type": "markdown",
   "id": "9fd28178-b30c-42a1-8f3c-2d67f5682b44",
   "metadata": {},
   "source": [
    "# A program written to show kids how to add and substract numbers"
   ]
  },
  {
   "cell_type": "markdown",
   "id": "90077dfa-b7b8-4f7c-a8f1-fefc53690a44",
   "metadata": {},
   "source": [
    "## This notebook is to help me build it step by step.\n",
    "### Final product would be available in .py file"
   ]
  },
  {
   "cell_type": "code",
   "execution_count": 263,
   "id": "d9cb7c7a-e9ec-45f1-a6c7-aa9d488dee4c",
   "metadata": {},
   "outputs": [
    {
     "name": "stdout",
     "output_type": "stream",
     "text": [
      "   32      3801      45     123\n",
      "+ 698    -    2    + 43    + 49\n",
      "-----    ------    ----    ----\n",
      "  730      3799      88     172\n",
      "\n",
      "['32 + 698', '3801 - 2', '45 + 43', '123 + 49']\n"
     ]
    }
   ],
   "source": [
    "def arithmetic_arranger(problems, show_answers=False):\n",
    "\n",
    "    # Implementing Error Checking\n",
    "    if len(problems) > 5:\n",
    "        raise Exception('Error: Too many problems.')\n",
    "    for problem in problems:\n",
    "        if any('*' in s or '/' in s for s in problem):\n",
    "            raise Exception(\"Error: Operator must be '+' or '-'.\")\n",
    "    for problem in problems:\n",
    "        if not (problem.split(' ')[0].isdigit() and problem.split(' ')[-1].isdigit()):\n",
    "            raise Exception('Error: Numbers must only contain digits.')\n",
    "    for problem in problems:\n",
    "        if not (len(problem.split(' ')[0]) <= 4 and len(problem.split(' ')[-1]) <= 4):\n",
    "            raise Exception('Error: Numbers cannot be more than four digits.')\n",
    "\n",
    "    \n",
    "    # Obtaining row 1 and row 2 to be formatted later\n",
    "    row1 = [(problem.split(' ')[0]) for problem in problems]\n",
    "    row2 = [(problem.split(' ')[1:]) for problem in problems]\n",
    "\n",
    "    # Obtaining the max with of each problem\n",
    "    width = list((len(max(i, j[-1])) + 2) for i, j in zip(row1, row2))\n",
    "\n",
    "    # Obtaining formatted first row and second row\n",
    "    fr1 = '    '.join([i.rjust(j) for i,j in zip(row1, width)])\n",
    "    fr2 = '    '.join([(i[0])+(i[-1].rjust(j-1)) for i,j in zip(row2, width)])\n",
    "\n",
    "    # Adding dashes\n",
    "    dashes = '    '.join([('-'*d) for d in width])\n",
    "\n",
    "    # Storing answers\n",
    "    answers = []\n",
    "    if show_answers:\n",
    "        for i, j in zip(row1, row2):\n",
    "            if j[0] == '+':\n",
    "                answers.append(int(i) + int(j[-1]))\n",
    "            else:\n",
    "                answers.append(int(i) - int(j[-1]))\n",
    "    final_ans = '    '.join([str(i).rjust(j) for i,j in zip(answers, width)])\n",
    "\n",
    "    # Display of final output\n",
    "    print(fr1)\n",
    "    print(fr2)\n",
    "    print(dashes)\n",
    "    print(final_ans)\n",
    "\n",
    "    return problems\n",
    "\n",
    "\n",
    "print(f'\\n{arithmetic_arranger([\"32 + 698\", \"3801 - 2\", \"45 + 43\", \"123 + 49\"], show_answers=1)}')"
   ]
  },
  {
   "cell_type": "code",
   "execution_count": 201,
   "id": "f399d132-2c01-43d1-a22a-7b2bb2bfe633",
   "metadata": {},
   "outputs": [
    {
     "data": {
      "text/plain": [
       "['+ 698', '-    2', '+ 43', '+ 49']"
      ]
     },
     "execution_count": 201,
     "metadata": {},
     "output_type": "execute_result"
    }
   ],
   "source": [
    "[(i[0])+(i[-1].rjust(j-1)) for i,j in zip(row2, width)]"
   ]
  },
  {
   "cell_type": "code",
   "execution_count": 292,
   "id": "933aaf12-6cf4-4561-ad73-086beafa5684",
   "metadata": {},
   "outputs": [
    {
     "name": "stdout",
     "output_type": "stream",
     "text": [
      "   32      3801      45     123\n",
      "+ 698    -    2    + 43    - 49\n",
      "-----    ------    ----    ----\n",
      "  730      3799      88      74\n"
     ]
    }
   ],
   "source": [
    "problems = [\"32 + 698\", \"3801 - 2\", \"45 + 43\", \"123 - 49\"]\n",
    "row1 = [(problem.split(' ')[0]) for problem in problems]\n",
    "row2 = [(problem.split(' ')[1:]) for problem in problems]\n",
    "width = list((len(max(i, j[-1])) + 2) for i, j in zip(row1, row2))\n",
    "# for problem in problems:\n",
    "#     row1.append(problem.split(' ')[0])\n",
    "#     row2.append(problem.split(' ')[1:])\n",
    "# for i, j in zip(row1, row2):\n",
    "#     width.append(len(max(i, j[-1])) + 2)\n",
    "# width = max(len(problem.split(' ')[0], problem.split(' ')[0])) # Wrong code, swapped the positions of max and len\n",
    "# print(row1)\n",
    "# print(row2)\n",
    "# print(width)\n",
    "\n",
    "# formatting the first row\n",
    "fr1 = '    '.join([i.rjust(j) for i,j in zip(row1, width)])\n",
    "fr2 = '    '.join([(i[0])+(i[-1].rjust(j-1)) for i,j in zip(row2, width)])\n",
    "# for i,j in zip(row1, width):\n",
    "#     fr1.append(i.rjust(j))\n",
    "#     # print(f\"{i: >{j}}\")\n",
    "# '    '.join(fr1)\n",
    "print(fr1)\n",
    "print(fr2)\n",
    "dashes = '    '.join([('-'*d) for d in width])\n",
    "# for d in width:\n",
    "#     print('-'*d)\n",
    "print(dashes)\n",
    "\n",
    "# Display answer\n",
    "show_answers=True\n",
    "answers = []\n",
    "if show_answers:\n",
    "    for i, j in zip(row1, row2):\n",
    "        if j[0] == '+':\n",
    "            answers.append(int(i) + int(j[-1]))\n",
    "        else:\n",
    "            answers.append(int(i) - int(j[-1]))\n",
    "print('    '.join([str(i).rjust(j) for i,j in zip(answers, width)]) )      "
   ]
  },
  {
   "cell_type": "code",
   "execution_count": 348,
   "id": "e3c0f62b-cbc3-41b2-9424-2c996bf7e760",
   "metadata": {},
   "outputs": [
    {
     "name": "stdout",
     "output_type": "stream",
     "text": [
      "2\n",
      "4\n",
      "2\n",
      "3\n"
     ]
    }
   ],
   "source": [
    "problems = [\"32 + 698\", \"3801 - 2\", \"45 + 43\", \"123 - 49\"]\n",
    "# Implementing Error Checking\n",
    "if len(problems) > 5:\n",
    "    raise Exception('Error: Too many problems.')\n",
    "for problem in problems:\n",
    "    if any('*' in s or '/' in s for s in problem):\n",
    "        raise Exception(\"Error: Operator must be '+' or '-'.\")\n",
    "for problem in problems:\n",
    "    if not (problem.split(' ')[0].isdigit() and problem.split(' ')[-1].isdigit()):\n",
    "        raise Exception('Error: Numbers must only contain digits.')\n",
    "for problem in problems:\n",
    "    if not (len(problem.split(' ')[0]) <= 4 and len(problem.split(' ')[-1]) <= 4):\n",
    "        raise Exception('Error: Numbers cannot be more than four digits.')"
   ]
  },
  {
   "cell_type": "code",
   "execution_count": 320,
   "id": "4e3610a2-1870-4204-8c76-9dfd16688ed8",
   "metadata": {},
   "outputs": [],
   "source": [
    "# def arithmetic_arranger(problems, show_answers=False):\n",
    "#     \"\"\"\n",
    "#     Program to show to add and substract numbers\n",
    "    \n",
    "#     parameters:\n",
    "#         problems: list,\n",
    "#         show_answers: False - default\n",
    "#     \"\"\"\n",
    "#     if len(problems) > 5:\n",
    "#         print('Error: Too many problems.')\n",
    "#     else:\n",
    "#         for item in problems:\n",
    "#             if not any('+' in s or '-' in s for s in item):\n",
    "#                 print(\"Error: Operator must be '+' or '-'.\")\n",
    "#             if not ((item.split(' '))[0].isdigit() and (item.split(' '))[-1].isdigit()):\n",
    "#                 print('Error: Numbers must only contain digits.')\n",
    "#             if not (len(item.split(' ')[0]) < 5 and len(item.split(' ')[-1]) < 5):\n",
    "#                 print('Error: Numbers cannot be more than four digits.')\n",
    "#             if int(item.split(' ')[0]) > int(item.split(' ')[-1]):\n",
    "#                 print(f' {(item.split(' ')[0]): >{(len(item.split(' ')[0]) + 1)}}\\n{(item.split(' ')[1])}{(item.split(' ')[-1]): >{(len(item.split(' ')[0]) + 1)}}\\n{\"-\" * (len(item.split(' ')[0]) + 1): >{(len(item.split(' ')[0]) + 2)}}')\n",
    "#                 if show_answers:\n",
    "#                     if item.split(' ')[1] == '+':\n",
    "#                         print(f'{(int(item.split(' ')[0]) + int(item.split(' ')[-1])): >{(len(item.split(' ')[0]) + 2)}}')\n",
    "#                     else:\n",
    "#                         print(f'{(int(item.split(' ')[0]) - int(item.split(' ')[-1])): >{(len(item.split(' ')[0]) + 2)}}')    \n",
    "#             else:\n",
    "#                 print(f' {(item.split(' ')[-1]): >{(len(item.split(' ')[-1]) + 1)}}\\n{(item.split(' ')[1])}{(item.split(' ')[0]): >{(len(item.split(' ')[-1]) + 1)}}\\n{\"-\" * (len(item.split(' ')[-1]) + 1): >{(len(item.split(' ')[-1]) + 2)}}')\n",
    "#                 if show_answers:\n",
    "#                         if item.split(' ')[1] == '+':\n",
    "#                             print(f'{(int(item.split(' ')[0]) + int(item.split(' ')[-1])): >{(len(item.split(' ')[-1]) + 2)}}')\n",
    "#                         else:\n",
    "#                             print(f'{(int(item.split(' ')[0]) - int(item.split(' ')[-1])): >{(len(item.split(' ')[-1]) + 2)}}')  \n",
    "\n",
    "#         print(end=\"    \")\n",
    "#     return problems\n",
    "\n",
    "# print(f'\\n{arithmetic_arranger([\"32 + 698\", \"3801 - 2\", \"45 + 43\", \"123 + 49\"], show_answers=True)}')"
   ]
  },
  {
   "cell_type": "code",
   "execution_count": null,
   "id": "5cf1b239-73e5-4e0b-9da6-eb1dbe20253f",
   "metadata": {},
   "outputs": [],
   "source": []
  }
 ],
 "metadata": {
  "kernelspec": {
   "display_name": "Python [conda env:base] *",
   "language": "python",
   "name": "conda-base-py"
  },
  "language_info": {
   "codemirror_mode": {
    "name": "ipython",
    "version": 3
   },
   "file_extension": ".py",
   "mimetype": "text/x-python",
   "name": "python",
   "nbconvert_exporter": "python",
   "pygments_lexer": "ipython3",
   "version": "3.12.7"
  }
 },
 "nbformat": 4,
 "nbformat_minor": 5
}
